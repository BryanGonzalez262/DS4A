{
 "cells": [
  {
   "cell_type": "markdown",
   "source": [
    "# Exploring customer segmentation and customer lifetime value for sales forecasting\n",
    "\n",
    "**Background**\n",
    "\n",
    "A UK-based company that supplies unique all-occasion gifts, such as themed dishware and trendy household items, takes pride in offering an unparalleled selection of carefully curated products designed to enhance every special moment. With over 1 million transactions realized between 2009 and 2011, this company provides products for wholesalers, retail stores, or resellers. This means it sells to sales channel partners and stores that are looking for unique gift ideas and products for their customers. As a product supplier for wholesale stores, the company deals with cancellations and bulk orders. Due to the nature of the gift-giving product category, the volume of business is high during peak holiday seasons, which in the UK occur from October to December.\n",
    "\n",
    "\n",
    "The challenge is to better understand the customer data available and historical sales, to identify an opportunity to build targeted segments to market and to forecast sales.\n",
    "\n",
    "\n",
    "Another key factor to keep in mind is that the analysis also considers cancellations and returns, so the segmentation approach should identify customer groups who are qualified customers who generally don’t show indicators of returning or canceling their orders. A key goal in retail is to ensure profitable sales that minimize returns and cancellations, which impacts the profitability of the organization.\n",
    "\n",
    "**Objectives**\n",
    "\n",
    "- Understand the data of the challenge and its features.\n",
    "- Perform an exploratory data analysis to identify patterns and insights that help solve the challenge.\n",
    "- Prepare the data that will be necessary to solve the challenge.\n",
    "- Establish a customer segmentation technique and describe the results.\n",
    "- Define the strategy, implement the forecast model for each customer segment, and describe the results.\n",
    "- Present the results and main insights found in the execution of the challenge.\n"
   ],
   "metadata": {
    "collapsed": false
   },
   "id": "e77feed060a366d5"
  },
  {
   "cell_type": "code",
   "execution_count": 1,
   "id": "initial_id",
   "metadata": {
    "collapsed": true,
    "ExecuteTime": {
     "end_time": "2023-10-22T19:24:59.839944Z",
     "start_time": "2023-10-22T19:24:59.413792Z"
    }
   },
   "outputs": [],
   "source": [
    "import pandas as pd\n",
    "import seaborn as sns\n",
    "import matplotlib.pyplot as plt\n",
    "from sklearn.cluster import KMeans\n",
    "from sklearn.preprocessing import StandardScaler\n",
    "from tqdm import tqdm\n",
    "import warnings\n",
    "\n",
    "warnings.filterwarnings(\"ignore\")\n"
   ]
  },
  {
   "cell_type": "code",
   "execution_count": 7,
   "outputs": [
    {
     "data": {
      "text/plain": "  Invoice StockCode                          Description  Quantity  \\\n0  489434     85048  15CM CHRISTMAS GLASS BALL 20 LIGHTS        12   \n1  489434    79323P                   PINK CHERRY LIGHTS        12   \n2  489434    79323W                  WHITE CHERRY LIGHTS        12   \n3  489434     22041         RECORD FRAME 7\" SINGLE SIZE         48   \n4  489434     21232       STRAWBERRY CERAMIC TRINKET BOX        24   \n\n          InvoiceDate  Price  Customer ID         Country  \n0 2009-12-01 07:45:00   6.95      13085.0  United Kingdom  \n1 2009-12-01 07:45:00   6.75      13085.0  United Kingdom  \n2 2009-12-01 07:45:00   6.75      13085.0  United Kingdom  \n3 2009-12-01 07:45:00   2.10      13085.0  United Kingdom  \n4 2009-12-01 07:45:00   1.25      13085.0  United Kingdom  ",
      "text/html": "<div>\n<style scoped>\n    .dataframe tbody tr th:only-of-type {\n        vertical-align: middle;\n    }\n\n    .dataframe tbody tr th {\n        vertical-align: top;\n    }\n\n    .dataframe thead th {\n        text-align: right;\n    }\n</style>\n<table border=\"1\" class=\"dataframe\">\n  <thead>\n    <tr style=\"text-align: right;\">\n      <th></th>\n      <th>Invoice</th>\n      <th>StockCode</th>\n      <th>Description</th>\n      <th>Quantity</th>\n      <th>InvoiceDate</th>\n      <th>Price</th>\n      <th>Customer ID</th>\n      <th>Country</th>\n    </tr>\n  </thead>\n  <tbody>\n    <tr>\n      <th>0</th>\n      <td>489434</td>\n      <td>85048</td>\n      <td>15CM CHRISTMAS GLASS BALL 20 LIGHTS</td>\n      <td>12</td>\n      <td>2009-12-01 07:45:00</td>\n      <td>6.95</td>\n      <td>13085.0</td>\n      <td>United Kingdom</td>\n    </tr>\n    <tr>\n      <th>1</th>\n      <td>489434</td>\n      <td>79323P</td>\n      <td>PINK CHERRY LIGHTS</td>\n      <td>12</td>\n      <td>2009-12-01 07:45:00</td>\n      <td>6.75</td>\n      <td>13085.0</td>\n      <td>United Kingdom</td>\n    </tr>\n    <tr>\n      <th>2</th>\n      <td>489434</td>\n      <td>79323W</td>\n      <td>WHITE CHERRY LIGHTS</td>\n      <td>12</td>\n      <td>2009-12-01 07:45:00</td>\n      <td>6.75</td>\n      <td>13085.0</td>\n      <td>United Kingdom</td>\n    </tr>\n    <tr>\n      <th>3</th>\n      <td>489434</td>\n      <td>22041</td>\n      <td>RECORD FRAME 7\" SINGLE SIZE</td>\n      <td>48</td>\n      <td>2009-12-01 07:45:00</td>\n      <td>2.10</td>\n      <td>13085.0</td>\n      <td>United Kingdom</td>\n    </tr>\n    <tr>\n      <th>4</th>\n      <td>489434</td>\n      <td>21232</td>\n      <td>STRAWBERRY CERAMIC TRINKET BOX</td>\n      <td>24</td>\n      <td>2009-12-01 07:45:00</td>\n      <td>1.25</td>\n      <td>13085.0</td>\n      <td>United Kingdom</td>\n    </tr>\n  </tbody>\n</table>\n</div>"
     },
     "execution_count": 7,
     "metadata": {},
     "output_type": "execute_result"
    }
   ],
   "source": [
    "dat = pd.read_excel('online_retail_II.xlsx')\n",
    "dat.head()"
   ],
   "metadata": {
    "collapsed": false,
    "ExecuteTime": {
     "end_time": "2023-10-22T19:29:03.367616Z",
     "start_time": "2023-10-22T19:28:05.182427Z"
    }
   },
   "id": "e1bd52b88a440ed1"
  },
  {
   "cell_type": "markdown",
   "source": [
    "# 1. The Raw Data\n",
    "\n",
    "| Data Element | Type     | Description                                                                                                                                               |\n",
    "|--------------|----------|-----------------------------------------------------------------------------------------------------------------------------------------------------------|\n",
    "| Invoice      | object   | Invoice number. A 6-digit integral number is uniquely assigned to each transaction. If this code starts with the letter 'c', it indicates a cancellation. |\n",
    "| StockCode    | object   | Product (item) code. A unique 5-digit integral number is assigned to each distinct product.                                                               |\n",
    "| Description  | object   | Product (item) name. |\n",
    "| Quantity     | int64    | The quantities of each product (item) per transaction. |\n",
    "| InvoiceDate  | datetime | Invoice date and time. The day and time when a transaction was generated. |\n",
    "| Price        | float64  | Unit price.  Product price per unit in pounds (£). |\n",
    "| Customer ID  | int64    | Customer number.  A unique 5-digit integral number is assigned to each customer. |\n",
    "| Country      | object   | Country name. The name of the country where a customer resides. |\n"
   ],
   "metadata": {
    "collapsed": false
   },
   "id": "375f244c64a67e3d"
  },
  {
   "cell_type": "markdown",
   "source": [
    "# 2. Cleaning"
   ],
   "metadata": {
    "collapsed": false
   },
   "id": "4e96aac4b5a9b6a7"
  },
  {
   "cell_type": "code",
   "execution_count": 10,
   "outputs": [
    {
     "name": "stdout",
     "output_type": "stream",
     "text": [
      "there are 0 Nans in the Invoice column\n",
      "there are 0 Nans in the StockCode column\n",
      "there are 2928 Nans in the Description column\n",
      "there are 0 Nans in the Quantity column\n",
      "there are 0 Nans in the InvoiceDate column\n",
      "there are 0 Nans in the Price column\n",
      "there are 107927 Nans in the Customer ID column\n",
      "there are 0 Nans in the Country column\n",
      "there are 0 Nans in the Cancelled column\n",
      " 971343 rows were dropped due to nans (20.53948818275762 %).\n"
     ]
    }
   ],
   "source": [
    "# Cancellations/Returns\n",
    "dat['Cancelled'] = False\n",
    "dat.loc[dat.Invoice.astype(str).str.startswith('C'), 'Cancelled'] = True\n",
    "\n",
    "# Nans\n",
    "for col in dat.columns:\n",
    "    print(f'there are {sum(dat[col].isna())} Nans in the {col} column')\n",
    "\n",
    "# Start simple. just drop them    \n",
    "df = dat.dropna() \n",
    "print(f' {dat.size - df.size} rows were dropped due to nans ({((dat.size - df.size)/ dat.size) * 100} %).') \n",
    "\n",
    "# Distribute the year, month, day, and time components into separate columns\n",
    "df['Year'] = df.InvoiceDate.dt.year\n",
    "df['Month'] = df.InvoiceDate.dt.month\n",
    "df['Week'] = df.InvoiceDate.dt.isocalendar().week\n",
    "df['Day'] = df.InvoiceDate.dt.day\n",
    "df['Time'] = df.InvoiceDate.dt.time\n",
    "\n",
    "df['Total'] = df.Quantity * df.Price\n",
    "df = df[df.Cancelled == False].reset_index()\n",
    "# Dropping test transactions\n",
    "df = df[~df.StockCode.astype(str).str.contains('TEST')].reset_index(drop=True)\n",
    "\n",
    "df.set_index('InvoiceDate', inplace=True)\n"
   ],
   "metadata": {
    "collapsed": false,
    "ExecuteTime": {
     "end_time": "2023-10-22T19:29:17.973609Z",
     "start_time": "2023-10-22T19:29:16.138986Z"
    }
   },
   "id": "9c5dbcd3c9f724c3"
  },
  {
   "cell_type": "markdown",
   "source": [
    "Computing Sales\n",
    "We will compute sales over year/month/week/ and day "
   ],
   "metadata": {
    "collapsed": false
   },
   "id": "2cd11cfc5e62211a"
  },
  {
   "cell_type": "code",
   "execution_count": 11,
   "outputs": [],
   "source": [
    "#weekly_sales = df['Total']..sum().plot()\n",
    "daily = df['Total'].resample('D').sum()\n",
    "weekly_sales = df['Total'].resample('W').sum()\n"
   ],
   "metadata": {
    "collapsed": false,
    "ExecuteTime": {
     "end_time": "2023-10-22T19:29:58.215337Z",
     "start_time": "2023-10-22T19:29:58.148740Z"
    }
   },
   "id": "bef595cb9c78a28b"
  },
  {
   "cell_type": "code",
   "execution_count": 6,
   "outputs": [
    {
     "data": {
      "text/plain": "Empty DataFrame\nColumns: [index, Invoice, StockCode, Description, Quantity, Price, Customer ID, Country, Cancelled, Year, Month, Week, Day, Time, Total]\nIndex: []",
      "text/html": "<div>\n<style scoped>\n    .dataframe tbody tr th:only-of-type {\n        vertical-align: middle;\n    }\n\n    .dataframe tbody tr th {\n        vertical-align: top;\n    }\n\n    .dataframe thead th {\n        text-align: right;\n    }\n</style>\n<table border=\"1\" class=\"dataframe\">\n  <thead>\n    <tr style=\"text-align: right;\">\n      <th></th>\n      <th>index</th>\n      <th>Invoice</th>\n      <th>StockCode</th>\n      <th>Description</th>\n      <th>Quantity</th>\n      <th>Price</th>\n      <th>Customer ID</th>\n      <th>Country</th>\n      <th>Cancelled</th>\n      <th>Year</th>\n      <th>Month</th>\n      <th>Week</th>\n      <th>Day</th>\n      <th>Time</th>\n      <th>Total</th>\n    </tr>\n  </thead>\n  <tbody>\n  </tbody>\n</table>\n</div>"
     },
     "execution_count": 6,
     "metadata": {},
     "output_type": "execute_result"
    }
   ],
   "source": [
    "df.loc[(df.Year == 2010) & (df.Month == 1) & (df.Day == 3) ]"
   ],
   "metadata": {
    "collapsed": false,
    "ExecuteTime": {
     "end_time": "2023-10-22T19:27:57.117120Z",
     "start_time": "2023-10-22T19:27:57.091483Z"
    }
   },
   "id": "7a8b6e99ff91a3d2"
  },
  {
   "cell_type": "code",
   "execution_count": 13,
   "outputs": [],
   "source": [
    "# Select features for segmentation\n",
    "# Here, we'll use 'Recency', 'Frequency', and 'Monetary' for an RFM-based segmentation\n",
    "# You can define these metrics based on your specific business context\n",
    "df.reset_index(inplace=True)\n",
    "rfm_data = df.groupby('Customer ID').agg({\n",
    "    'InvoiceDate': lambda x: (pd.Timestamp.now() - x.max()).days,  # Recency\n",
    "    'Invoice': 'count',  # Frequency\n",
    "    'Price': 'sum'  # Monetary\n",
    "}).reset_index()\n",
    "rfm_data.columns = ['Customer ID', 'Recency', 'Frequency', 'Monetary']\n"
   ],
   "metadata": {
    "collapsed": false,
    "ExecuteTime": {
     "end_time": "2023-10-22T19:39:28.019945Z",
     "start_time": "2023-10-22T19:39:27.060919Z"
    }
   },
   "id": "10aa3a1c01f6cc7f"
  },
  {
   "cell_type": "code",
   "execution_count": 14,
   "outputs": [
    {
     "data": {
      "text/plain": "      Customer ID  Recency  Frequency  Monetary\n0         12346.0     4864         24    169.36\n1         12347.0     4702         71    162.95\n2         12348.0     4773         20     14.39\n3         12349.0     4742        102    875.34\n4         12351.0     4710         21     49.46\n...           ...      ...        ...       ...\n4307      18283.0     4717        230    498.82\n4308      18284.0     4766         28     91.09\n4309      18285.0     4995         12    100.20\n4310      18286.0     4811         67    286.30\n4311      18287.0     4717         85    241.79\n\n[4312 rows x 4 columns]",
      "text/html": "<div>\n<style scoped>\n    .dataframe tbody tr th:only-of-type {\n        vertical-align: middle;\n    }\n\n    .dataframe tbody tr th {\n        vertical-align: top;\n    }\n\n    .dataframe thead th {\n        text-align: right;\n    }\n</style>\n<table border=\"1\" class=\"dataframe\">\n  <thead>\n    <tr style=\"text-align: right;\">\n      <th></th>\n      <th>Customer ID</th>\n      <th>Recency</th>\n      <th>Frequency</th>\n      <th>Monetary</th>\n    </tr>\n  </thead>\n  <tbody>\n    <tr>\n      <th>0</th>\n      <td>12346.0</td>\n      <td>4864</td>\n      <td>24</td>\n      <td>169.36</td>\n    </tr>\n    <tr>\n      <th>1</th>\n      <td>12347.0</td>\n      <td>4702</td>\n      <td>71</td>\n      <td>162.95</td>\n    </tr>\n    <tr>\n      <th>2</th>\n      <td>12348.0</td>\n      <td>4773</td>\n      <td>20</td>\n      <td>14.39</td>\n    </tr>\n    <tr>\n      <th>3</th>\n      <td>12349.0</td>\n      <td>4742</td>\n      <td>102</td>\n      <td>875.34</td>\n    </tr>\n    <tr>\n      <th>4</th>\n      <td>12351.0</td>\n      <td>4710</td>\n      <td>21</td>\n      <td>49.46</td>\n    </tr>\n    <tr>\n      <th>...</th>\n      <td>...</td>\n      <td>...</td>\n      <td>...</td>\n      <td>...</td>\n    </tr>\n    <tr>\n      <th>4307</th>\n      <td>18283.0</td>\n      <td>4717</td>\n      <td>230</td>\n      <td>498.82</td>\n    </tr>\n    <tr>\n      <th>4308</th>\n      <td>18284.0</td>\n      <td>4766</td>\n      <td>28</td>\n      <td>91.09</td>\n    </tr>\n    <tr>\n      <th>4309</th>\n      <td>18285.0</td>\n      <td>4995</td>\n      <td>12</td>\n      <td>100.20</td>\n    </tr>\n    <tr>\n      <th>4310</th>\n      <td>18286.0</td>\n      <td>4811</td>\n      <td>67</td>\n      <td>286.30</td>\n    </tr>\n    <tr>\n      <th>4311</th>\n      <td>18287.0</td>\n      <td>4717</td>\n      <td>85</td>\n      <td>241.79</td>\n    </tr>\n  </tbody>\n</table>\n<p>4312 rows × 4 columns</p>\n</div>"
     },
     "execution_count": 14,
     "metadata": {},
     "output_type": "execute_result"
    }
   ],
   "source": [
    "rfm_data"
   ],
   "metadata": {
    "collapsed": false,
    "ExecuteTime": {
     "end_time": "2023-10-22T19:39:31.145010Z",
     "start_time": "2023-10-22T19:39:31.125503Z"
    }
   },
   "id": "bcdefe4b13bf54c5"
  },
  {
   "cell_type": "code",
   "execution_count": 15,
   "outputs": [],
   "source": [
    "# Standardize the data\n",
    "scaler = StandardScaler()\n",
    "scaled_data = scaler.fit_transform(rfm_data[['Recency', 'Frequency', 'Monetary']])\n"
   ],
   "metadata": {
    "collapsed": false,
    "ExecuteTime": {
     "end_time": "2023-10-22T19:39:34.332596Z",
     "start_time": "2023-10-22T19:39:34.322505Z"
    }
   },
   "id": "e963c535854520f6"
  },
  {
   "cell_type": "code",
   "execution_count": 16,
   "outputs": [
    {
     "data": {
      "text/plain": "<Figure size 640x480 with 1 Axes>",
      "image/png": "[encoded data removed]"
     },
     "metadata": {},
     "output_type": "display_data"
    }
   ],
   "source": [
    "# Determine the optimal number of clusters using the Elbow Method\n",
    "wcss = []\n",
    "for i in range(1, 11):\n",
    "    kmeans = KMeans(n_clusters=i, init='k-means++', random_state=42)\n",
    "    kmeans.fit(scaled_data)\n",
    "    wcss.append(kmeans.inertia_)\n",
    "\n",
    "# Plot the Elbow Method to identify the optimal number of clusters\n",
    "plt.plot(range(1, 11), wcss)\n",
    "plt.title('Elbow Method')\n",
    "plt.xlabel('Number of Clusters')\n",
    "plt.ylabel('WCSS (Within-Cluster Sum of Squares)')\n",
    "plt.show()\n"
   ],
   "metadata": {
    "collapsed": false,
    "ExecuteTime": {
     "end_time": "2023-10-22T19:39:38.650272Z",
     "start_time": "2023-10-22T19:39:37.499622Z"
    }
   },
   "id": "b6e0d1fed5dbcafc"
  },
  {
   "cell_type": "code",
   "execution_count": 17,
   "outputs": [
    {
     "data": {
      "text/plain": "<Figure size 640x480 with 1 Axes>",
      "image/png": "[encoded data removed]"
     },
     "metadata": {},
     "output_type": "display_data"
    }
   ],
   "source": [
    "# Based on the Elbow Method plot, choose the optimal number of clusters\n",
    "num_clusters = 3  # Adjust this based on your analysis\n",
    "\n",
    "# Apply K-means clustering with the chosen number of clusters\n",
    "kmeans = KMeans(n_clusters=num_clusters, init='k-means++', random_state=42)\n",
    "rfm_data['Cluster'] = kmeans.fit_predict(scaled_data)\n",
    "\n",
    "# Visualize the clusters\n",
    "rfm_data['Cluster'].value_counts().plot(kind='bar')\n",
    "plt.title('Customer Segmentation')\n",
    "plt.xlabel('Cluster')\n",
    "plt.ylabel('Number of Customers')\n",
    "plt.show()\n",
    "\n",
    "# Now, rfm_data contains the customer segments (clusters)\n"
   ],
   "metadata": {
    "collapsed": false,
    "ExecuteTime": {
     "end_time": "2023-10-22T19:39:41.740859Z",
     "start_time": "2023-10-22T19:39:41.456976Z"
    }
   },
   "id": "6f09d162e81dd5fa"
  },
  {
   "cell_type": "markdown",
   "source": [
    "Here we compute revenue per transaction (price x quantity) and identify transactions that were returned or cancelled. "
   ],
   "metadata": {
    "collapsed": false
   },
   "id": "e1da956818d99864"
  },
  {
   "cell_type": "code",
   "execution_count": 31,
   "outputs": [
    {
     "data": {
      "text/plain": "      Customer ID  Recency  Frequency  Monetary  Cluster\n0         12346.0     4863         24    169.36        2\n1         12347.0     4701         71    162.95        1\n2         12348.0     4772         20     14.39        1\n3         12349.0     4741        102    875.34        1\n4         12351.0     4709         21     49.46        1\n...           ...      ...        ...       ...      ...\n4307      18283.0     4716        230    498.82        1\n4308      18284.0     4765         28     91.09        1\n4309      18285.0     4994         12    100.20        2\n4310      18286.0     4810         67    286.30        1\n4311      18287.0     4716         85    241.79        1\n\n[4312 rows x 5 columns]",
      "text/html": "<div>\n<style scoped>\n    .dataframe tbody tr th:only-of-type {\n        vertical-align: middle;\n    }\n\n    .dataframe tbody tr th {\n        vertical-align: top;\n    }\n\n    .dataframe thead th {\n        text-align: right;\n    }\n</style>\n<table border=\"1\" class=\"dataframe\">\n  <thead>\n    <tr style=\"text-align: right;\">\n      <th></th>\n      <th>Customer ID</th>\n      <th>Recency</th>\n      <th>Frequency</th>\n      <th>Monetary</th>\n      <th>Cluster</th>\n    </tr>\n  </thead>\n  <tbody>\n    <tr>\n      <th>0</th>\n      <td>12346.0</td>\n      <td>4863</td>\n      <td>24</td>\n      <td>169.36</td>\n      <td>2</td>\n    </tr>\n    <tr>\n      <th>1</th>\n      <td>12347.0</td>\n      <td>4701</td>\n      <td>71</td>\n      <td>162.95</td>\n      <td>1</td>\n    </tr>\n    <tr>\n      <th>2</th>\n      <td>12348.0</td>\n      <td>4772</td>\n      <td>20</td>\n      <td>14.39</td>\n      <td>1</td>\n    </tr>\n    <tr>\n      <th>3</th>\n      <td>12349.0</td>\n      <td>4741</td>\n      <td>102</td>\n      <td>875.34</td>\n      <td>1</td>\n    </tr>\n    <tr>\n      <th>4</th>\n      <td>12351.0</td>\n      <td>4709</td>\n      <td>21</td>\n      <td>49.46</td>\n      <td>1</td>\n    </tr>\n    <tr>\n      <th>...</th>\n      <td>...</td>\n      <td>...</td>\n      <td>...</td>\n      <td>...</td>\n      <td>...</td>\n    </tr>\n    <tr>\n      <th>4307</th>\n      <td>18283.0</td>\n      <td>4716</td>\n      <td>230</td>\n      <td>498.82</td>\n      <td>1</td>\n    </tr>\n    <tr>\n      <th>4308</th>\n      <td>18284.0</td>\n      <td>4765</td>\n      <td>28</td>\n      <td>91.09</td>\n      <td>1</td>\n    </tr>\n    <tr>\n      <th>4309</th>\n      <td>18285.0</td>\n      <td>4994</td>\n      <td>12</td>\n      <td>100.20</td>\n      <td>2</td>\n    </tr>\n    <tr>\n      <th>4310</th>\n      <td>18286.0</td>\n      <td>4810</td>\n      <td>67</td>\n      <td>286.30</td>\n      <td>1</td>\n    </tr>\n    <tr>\n      <th>4311</th>\n      <td>18287.0</td>\n      <td>4716</td>\n      <td>85</td>\n      <td>241.79</td>\n      <td>1</td>\n    </tr>\n  </tbody>\n</table>\n<p>4312 rows × 5 columns</p>\n</div>"
     },
     "execution_count": 31,
     "metadata": {},
     "output_type": "execute_result"
    }
   ],
   "source": [
    "rfm_data"
   ],
   "metadata": {
    "collapsed": false,
    "ExecuteTime": {
     "end_time": "2023-10-21T22:54:11.367103Z",
     "start_time": "2023-10-21T22:54:11.346427Z"
    }
   },
   "id": "95ed8bbea47a2822"
  },
  {
   "cell_type": "code",
   "execution_count": 18,
   "outputs": [],
   "source": [
    "df['Cluster'] = None"
   ],
   "metadata": {
    "collapsed": false,
    "ExecuteTime": {
     "end_time": "2023-10-22T19:40:25.442084Z",
     "start_time": "2023-10-22T19:40:25.427301Z"
    }
   },
   "id": "99624aa05b4b2865"
  },
  {
   "cell_type": "code",
   "execution_count": 19,
   "outputs": [
    {
     "name": "stderr",
     "output_type": "stream",
     "text": [
      "100%|██████████| 4312/4312 [00:06<00:00, 713.30it/s]\n"
     ]
    }
   ],
   "source": [
    "\n",
    "for customer in tqdm(df['Customer ID'].unique()):\n",
    "    c = rfm_data.loc[rfm_data['Customer ID'] == customer].Cluster.values[0]\n",
    "    df.loc[df['Customer ID'] == customer, 'Cluster'] = c    "
   ],
   "metadata": {
    "collapsed": false,
    "ExecuteTime": {
     "end_time": "2023-10-22T19:40:32.763899Z",
     "start_time": "2023-10-22T19:40:26.679081Z"
    }
   },
   "id": "2889a9366f77e8e3"
  },
  {
   "cell_type": "code",
   "execution_count": 32,
   "outputs": [
    {
     "ename": "TypeError",
     "evalue": "'bool' object is not callable",
     "output_type": "error",
     "traceback": [
      "\u001B[0;31m---------------------------------------------------------------------------\u001B[0m",
      "\u001B[0;31mTypeError\u001B[0m                                 Traceback (most recent call last)",
      "Cell \u001B[0;32mIn[32], line 1\u001B[0m\n\u001B[0;32m----> 1\u001B[0m \u001B[43mdf\u001B[49m\u001B[38;5;241;43m.\u001B[39;49m\u001B[43mgroupby\u001B[49m\u001B[43m(\u001B[49m\u001B[38;5;124;43m\"\u001B[39;49m\u001B[38;5;124;43mCustomer ID\u001B[39;49m\u001B[38;5;124;43m\"\u001B[39;49m\u001B[43m)\u001B[49m\u001B[38;5;241;43m.\u001B[39;49m\u001B[43mas_index\u001B[49m\u001B[43m(\u001B[49m\u001B[43m)\u001B[49m\n",
      "\u001B[0;31mTypeError\u001B[0m: 'bool' object is not callable"
     ]
    }
   ],
   "source": [
    "df.groupby(\"Customer ID\").as_index()\n"
   ],
   "metadata": {
    "collapsed": false,
    "ExecuteTime": {
     "end_time": "2023-10-22T19:43:56.965803Z",
     "start_time": "2023-10-22T19:43:56.931261Z"
    }
   },
   "id": "f41d4866a3814048"
  },
  {
   "cell_type": "code",
   "execution_count": 19,
   "outputs": [
    {
     "data": {
      "text/plain": "Country      Cluster  Customer ID  Invoice  InvoiceDate        \nAustralia    0        12392.0      506115   2010-04-27 14:04:00     234.75\n                      12416.0      498550   2010-02-21 10:19:00     202.56\n                      16321.0      489450   2009-12-01 10:36:00     196.10\n                                   502275   2010-03-23 16:01:00      34.80\n             1        12386.0      537676   2010-12-08 09:53:00     258.90\n                                                                    ...   \nUnspecified  1        16320.0      495919   2010-01-27 13:29:00     823.15\n                                   515475   2010-07-13 09:35:00    1189.94\n                                   515624   2010-07-14 10:08:00    1189.94\n                                   522098   2010-09-12 13:51:00    1387.50\nWest Indies  1        18140.0      520018   2010-08-23 11:58:00     536.41\nName: Total, Length: 19238, dtype: float64"
     },
     "execution_count": 19,
     "metadata": {},
     "output_type": "execute_result"
    }
   ],
   "source": [
    "#aggregate data for forecast\n",
    "df['Total'] = df.Price * df.Quantity\n",
    "xx = df.Country.astype(str).str.get_dummies()\n",
    "df = pd.concat([df, xx], axis=1)\n",
    "df.groupby(['Country','Cluster','Customer ID', 'Invoice', 'InvoiceDate']).Total.sum()"
   ],
   "metadata": {
    "collapsed": false,
    "ExecuteTime": {
     "end_time": "2023-10-22T18:43:19.370933Z",
     "start_time": "2023-10-22T18:43:19.172857Z"
    }
   },
   "id": "b50def317367463c"
  },
  {
   "cell_type": "code",
   "execution_count": 20,
   "outputs": [
    {
     "name": "stdout",
     "output_type": "stream",
     "text": [
      "Root Mean Squared Error for Segment 0: 34.87982224114354\n",
      "Root Mean Squared Error for Segment 1: 49.2529478714407\n",
      "Root Mean Squared Error for Segment 2: 57.08403798388702\n"
     ]
    }
   ],
   "source": [
    "from sklearn.ensemble import RandomForestRegressor\n",
    "from sklearn.metrics import mean_squared_error\n",
    "import numpy as np\n",
    "from sklearn.model_selection import train_test_split\n",
    "\n",
    "for seg in range(3):    \n",
    "    # Select a customer segment (e.g., segment 0)\n",
    "    segment_data = df[df['Cluster'] == seg]\n",
    "    \n",
    "    # Train a Random Forest Regressor for the selected segment\n",
    "    X_segment = segment_data[['InvoiceDate', 'Price']+ [col for col in xx.columns]]\n",
    "    y_segment = segment_data['Total']\n",
    "    \n",
    "    # Feature engineering (convert InvoiceDate to numeric features)\n",
    "    X_segment['Year'] = X_segment['InvoiceDate'].dt.year\n",
    "    X_segment['Month'] = X_segment['InvoiceDate'].dt.month\n",
    "    X_segment['Day'] = X_segment['InvoiceDate'].dt.day\n",
    "    X_segment['Hour'] = X_segment['InvoiceDate'].dt.hour\n",
    "    \n",
    "    X_segment = X_segment.drop(columns=['InvoiceDate'])\n",
    "    \n",
    "    # Split the segment data into training and testing sets\n",
    "    X_train_segment, X_test_segment, y_train_segment, y_test_segment = train_test_split(X_segment, y_segment, test_size=0.2, random_state=42)\n",
    "    \n",
    "    # Train the model\n",
    "    model = RandomForestRegressor(random_state=42)\n",
    "    model.fit(X_train_segment, y_train_segment)\n",
    "    \n",
    "    # Make predictions\n",
    "    y_pred_segment = model.predict(X_test_segment)\n",
    "    \n",
    "    # Evaluate the model\n",
    "    rmse_segment = np.sqrt(mean_squared_error(y_test_segment, y_pred_segment))\n",
    "    print(f'Root Mean Squared Error for Segment {seg}: {rmse_segment}')\n",
    "\n"
   ],
   "metadata": {
    "collapsed": false,
    "ExecuteTime": {
     "end_time": "2023-10-22T18:45:45.474399Z",
     "start_time": "2023-10-22T18:43:37.499927Z"
    }
   },
   "id": "fd3a1cb8aa1006fa"
  },
  {
   "cell_type": "code",
   "execution_count": 49,
   "outputs": [
    {
     "data": {
      "text/plain": "<Axes: xlabel='InvoiceDate'>"
     },
     "execution_count": 49,
     "metadata": {},
     "output_type": "execute_result"
    },
    {
     "data": {
      "text/plain": "<Figure size 640x480 with 1 Axes>",
      "image/png": "[encoded data removed]"
     },
     "metadata": {},
     "output_type": "display_data"
    }
   ],
   "source": [
    "df = dat.iloc[:10000]\n",
    "df.Total.resample('D').sum().cumsum().plot()\n",
    "#df"
   ],
   "metadata": {
    "collapsed": false,
    "ExecuteTime": {
     "end_time": "2023-10-21T18:04:51.906268Z",
     "start_time": "2023-10-21T18:04:51.541504Z"
    }
   },
   "id": "5cb4a068477de7b9"
  },
  {
   "cell_type": "markdown",
   "source": [
    "# Avg # of items / invoice per year"
   ],
   "metadata": {
    "collapsed": false
   },
   "id": "aefd38c7a2e993b9"
  },
  {
   "cell_type": "code",
   "execution_count": 42,
   "outputs": [
    {
     "ename": "AttributeError",
     "evalue": "'DataFrameGroupBy' object has no attribute 'groupby'",
     "output_type": "error",
     "traceback": [
      "\u001B[0;31m---------------------------------------------------------------------------\u001B[0m",
      "\u001B[0;31mAttributeError\u001B[0m                            Traceback (most recent call last)",
      "Cell \u001B[0;32mIn[42], line 1\u001B[0m\n\u001B[0;32m----> 1\u001B[0m xx \u001B[38;5;241m=\u001B[39m \u001B[43mdat\u001B[49m\u001B[38;5;241;43m.\u001B[39;49m\u001B[43mgroupby\u001B[49m\u001B[43m(\u001B[49m\u001B[43mdat\u001B[49m\u001B[38;5;241;43m.\u001B[39;49m\u001B[43mInvoiceDate\u001B[49m\u001B[38;5;241;43m.\u001B[39;49m\u001B[43mdt\u001B[49m\u001B[38;5;241;43m.\u001B[39;49m\u001B[43myear\u001B[49m\u001B[43m)\u001B[49m\u001B[38;5;241;43m.\u001B[39;49m\u001B[43mgroupby\u001B[49m([ dat\u001B[38;5;241m.\u001B[39mInvoiceDate\u001B[38;5;241m.\u001B[39mdt\u001B[38;5;241m.\u001B[39mmonth, \u001B[38;5;124m'\u001B[39m\u001B[38;5;124mInvoice\u001B[39m\u001B[38;5;124m'\u001B[39m])\u001B[38;5;241m.\u001B[39mTotal\u001B[38;5;241m.\u001B[39msum()\u001B[38;5;241m.\u001B[39mreset_index()\n\u001B[1;32m      2\u001B[0m \u001B[38;5;66;03m#sns.barplot(x='InvoiceDate', y='Total', data=xx)\u001B[39;00m\n",
      "File \u001B[0;32m~/CMI/venv/lib/python3.9/site-packages/pandas/core/groupby/groupby.py:1307\u001B[0m, in \u001B[0;36mGroupBy.__getattr__\u001B[0;34m(self, attr)\u001B[0m\n\u001B[1;32m   1304\u001B[0m \u001B[38;5;28;01mif\u001B[39;00m attr \u001B[38;5;129;01min\u001B[39;00m \u001B[38;5;28mself\u001B[39m\u001B[38;5;241m.\u001B[39mobj:\n\u001B[1;32m   1305\u001B[0m     \u001B[38;5;28;01mreturn\u001B[39;00m \u001B[38;5;28mself\u001B[39m[attr]\n\u001B[0;32m-> 1307\u001B[0m \u001B[38;5;28;01mraise\u001B[39;00m \u001B[38;5;167;01mAttributeError\u001B[39;00m(\n\u001B[1;32m   1308\u001B[0m     \u001B[38;5;124mf\u001B[39m\u001B[38;5;124m\"\u001B[39m\u001B[38;5;124m'\u001B[39m\u001B[38;5;132;01m{\u001B[39;00m\u001B[38;5;28mtype\u001B[39m(\u001B[38;5;28mself\u001B[39m)\u001B[38;5;241m.\u001B[39m\u001B[38;5;18m__name__\u001B[39m\u001B[38;5;132;01m}\u001B[39;00m\u001B[38;5;124m'\u001B[39m\u001B[38;5;124m object has no attribute \u001B[39m\u001B[38;5;124m'\u001B[39m\u001B[38;5;132;01m{\u001B[39;00mattr\u001B[38;5;132;01m}\u001B[39;00m\u001B[38;5;124m'\u001B[39m\u001B[38;5;124m\"\u001B[39m\n\u001B[1;32m   1309\u001B[0m )\n",
      "\u001B[0;31mAttributeError\u001B[0m: 'DataFrameGroupBy' object has no attribute 'groupby'"
     ]
    }
   ],
   "source": [
    "xx = dat.groupby(dat.InvoiceDate.dt.year).groupby([ dat.InvoiceDate.dt.month, 'Invoice']).Total.sum().reset_index()\n",
    "#sns.barplot(x='InvoiceDate', y='Total', data=xx)"
   ],
   "metadata": {
    "collapsed": false,
    "ExecuteTime": {
     "end_time": "2023-10-16T23:23:40.789424Z",
     "start_time": "2023-10-16T23:23:40.477857Z"
    }
   },
   "id": "d4e210f88d499c00"
  },
  {
   "cell_type": "code",
   "execution_count": 52,
   "outputs": [
    {
     "data": {
      "text/plain": "InvoiceDate  InvoiceDate  Invoice\n2009         12           489434      505.30\n                          489435      145.80\n                          489436      630.33\n                          489437      310.75\n                          489438     2286.24\n                                      ...   \n2010         12           C538121     -12.75\n                          C538122      -1.25\n                          C538123      -7.50\n                          C538124     -17.70\n                          C538164      -1.95\nName: Total, Length: 28816, dtype: float64"
     },
     "execution_count": 52,
     "metadata": {},
     "output_type": "execute_result"
    }
   ],
   "source": [
    "xx = dat.groupby([(dat.InvoiceDate.dt.year), (dat.InvoiceDate.dt.month), 'Invoice']).Total.sum()#.reset_index(col_fill=\"Month\")\n",
    "xx"
   ],
   "metadata": {
    "collapsed": false,
    "ExecuteTime": {
     "end_time": "2023-10-16T23:30:52.201343Z",
     "start_time": "2023-10-16T23:30:51.932909Z"
    }
   },
   "id": "c499aa829e1bbdd2"
  },
  {
   "cell_type": "code",
   "execution_count": 36,
   "outputs": [
    {
     "data": {
      "text/plain": "145.79999999999998"
     },
     "execution_count": 36,
     "metadata": {},
     "output_type": "execute_result"
    }
   ],
   "source": [
    "dat.loc[dat.Invoice == 489435].Total.sum()"
   ],
   "metadata": {
    "collapsed": false,
    "ExecuteTime": {
     "end_time": "2023-10-16T23:16:32.433682Z",
     "start_time": "2023-10-16T23:16:32.393226Z"
    }
   },
   "id": "e922669f5822c5a6"
  },
  {
   "cell_type": "markdown",
   "source": [
    "# ARIMA"
   ],
   "metadata": {
    "collapsed": false
   },
   "id": "f0abaef32d2d2005"
  },
  {
   "cell_type": "code",
   "execution_count": 6,
   "outputs": [
    {
     "data": {
      "text/plain": "InvoiceDate\n2009    [United Kingdom, France, USA, Belgium, Austral...\n2010    [United Kingdom, Germany, EIRE, Sweden, France...\nName: Country, dtype: object"
     },
     "execution_count": 6,
     "metadata": {},
     "output_type": "execute_result"
    }
   ],
   "source": [
    "from statsmodels.tsa.arima_model import ARIMA\n",
    "from statsmodels.tsa.stattools import adfuller\n",
    "from statsmodels.graphics.tsaplots import plot_acf, plot_pacf\n",
    "\n",
    "# Load your time series data\n",
    "# data = pd.read_csv('time_series_data.csv')\n",
    "\n",
    "# Assuming your dataset has a 'Date' column and a 'Value' column\n",
    "data['Date'] = pd.to_datetime(data['Date'])\n",
    "data.set_index('Date', inplace=True)\n",
    "\n",
    "# Visualize the time series data\n",
    "plt.figure(figsize=(12, 6))\n",
    "plt.plot(data)\n",
    "plt.title('Time Series Data')\n",
    "plt.xlabel('Date')\n",
    "plt.ylabel('Value')\n",
    "plt.show()\n",
    "\n",
    "# Check for stationarity using the Dickey-Fuller test\n",
    "result = adfuller(data['Value'])\n",
    "print('ADF Statistic:', result[0])\n",
    "print('p-value:', result[1])\n",
    "\n",
    "# If the time series is not stationary, you can take the first difference\n",
    "data_diff = data.diff().dropna()\n",
    "\n",
    "# Visualize the differenced time series\n",
    "plt.figure(figsize=(12, 6))\n",
    "plt.plot(data_diff)\n",
    "plt.title('Differenced Time Series')\n",
    "plt.xlabel('Date')\n",
    "plt.ylabel('Differenced Value')\n",
    "plt.show()\n",
    "\n",
    "# Plot ACF and PACF to determine ARIMA parameters\n",
    "plot_acf(data_diff, lags=20)\n",
    "plot_pacf(data_diff, lags=20)\n",
    "plt.show()\n",
    "\n",
    "# Fit an ARIMA model\n",
    "p = 1  # Order of AR\n",
    "d = 1  # Order of differencing\n",
    "q = 1  # Order of MA\n",
    "\n",
    "model = ARIMA(data, order=(p, d, q))\n",
    "results = model.fit()\n",
    "\n",
    "# Forecast future data points\n",
    "forecast_steps = 10  # Adjust the number of steps to forecast\n",
    "forecast, stderr, conf_int = results.forecast(steps=forecast_steps)\n",
    "\n",
    "# Visualize the forecasted values\n",
    "plt.figure(figsize=(12, 6))\n",
    "plt.plot(data, label='Original Data')\n",
    "plt.plot(pd.date_range(start=data.index[-1], periods=forecast_steps+1, closed='right'), [data.iloc[-1]] + list(forecast), label='Forecast', linestyle='--')\n",
    "plt.title('Time Series Forecast')\n",
    "plt.xlabel('Date')\n",
    "plt.ylabel('Value')\n",
    "plt.legend()\n",
    "plt.show()"
   ],
   "metadata": {
    "collapsed": false,
    "ExecuteTime": {
     "start_time": "2023-10-16T22:11:03.759940Z"
    }
   },
   "id": "53984a544374676c"
  },
  {
   "cell_type": "code",
   "execution_count": null,
   "outputs": [],
   "source": [],
   "metadata": {
    "collapsed": false
   },
   "id": "2278d7698629f8ee"
  }
 ],
 "metadata": {
  "kernelspec": {
   "display_name": "Python 3",
   "language": "python",
   "name": "python3"
  },
  "language_info": {
   "codemirror_mode": {
    "name": "ipython",
    "version": 2
   },
   "file_extension": ".py",
   "mimetype": "text/x-python",
   "name": "python",
   "nbconvert_exporter": "python",
   "pygments_lexer": "ipython2",
   "version": "2.7.6"
  }
 },
 "nbformat": 4,
 "nbformat_minor": 5
}
